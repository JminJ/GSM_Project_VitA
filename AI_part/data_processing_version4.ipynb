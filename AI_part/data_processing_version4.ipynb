{
  "nbformat": 4,
  "nbformat_minor": 0,
  "metadata": {
    "colab": {
      "name": "data_processing_version4.ipynb",
      "provenance": [],
      "collapsed_sections": []
    },
    "kernelspec": {
      "display_name": "Python 3",
      "name": "python3"
    }
  },
  "cells": [
    {
      "cell_type": "markdown",
      "metadata": {
        "id": "4JQxDlA0SqZB"
      },
      "source": [
        "## Import"
      ]
    },
    {
      "cell_type": "code",
      "metadata": {
        "id": "Nu2qrlSYuxa5"
      },
      "source": [
        "import librosa\r\n",
        "import librosa.display\r\n",
        "import pandas as pd\r\n",
        "import matplotlib.pyplot as plt\r\n",
        "import numpy as np\r\n",
        "import os\r\n",
        "import pandas as pd\r\n",
        "from tqdm import tqdm\r\n",
        "from keras.utils import to_categorical"
      ],
      "execution_count": 8,
      "outputs": []
    },
    {
      "cell_type": "markdown",
      "metadata": {
        "id": "gD1UYZO1UbJV"
      },
      "source": [
        "### ffmpeg-python 다운로드 (librosa load 에러 방지)"
      ]
    },
    {
      "cell_type": "code",
      "metadata": {
        "colab": {
          "base_uri": "https://localhost:8080/"
        },
        "id": "C2BkrPCdFNa4",
        "outputId": "5b09e811-a870-450c-f54a-89319c18e8e4"
      },
      "source": [
        "!pip install ffmpeg-python"
      ],
      "execution_count": 4,
      "outputs": [
        {
          "output_type": "stream",
          "text": [
            "Collecting ffmpeg-python\n",
            "  Downloading https://files.pythonhosted.org/packages/d7/0c/56be52741f75bad4dc6555991fabd2e07b432d333da82c11ad701123888a/ffmpeg_python-0.2.0-py3-none-any.whl\n",
            "Requirement already satisfied: future in /usr/local/lib/python3.6/dist-packages (from ffmpeg-python) (0.16.0)\n",
            "Installing collected packages: ffmpeg-python\n",
            "Successfully installed ffmpeg-python-0.2.0\n"
          ],
          "name": "stdout"
        }
      ]
    },
    {
      "cell_type": "markdown",
      "metadata": {
        "id": "cbzfc-lZSzch"
      },
      "source": [
        "## 소리 데이터 전처리 코드"
      ]
    },
    {
      "cell_type": "code",
      "metadata": {
        "id": "Fzf7vvoOyH-b"
      },
      "source": [
        "def mfcc(fir_file):\r\n",
        "  y, sr = librosa.load(fir_file)\r\n",
        "\r\n",
        "  # D = np.abs(librosa.stft(y, n_fft = 4096, win_length = 4096, hop_length = 2028))\r\n",
        "  mfcc = np.mean(librosa.feature.mfcc(y, sr = sr, n_mfcc = 40).T , axis = 0)\r\n",
        "\r\n",
        "  # delta2_mfcc = librosa.feature.delta(mfcc, order=2)\r\n",
        "\r\n",
        "  return mfcc"
      ],
      "execution_count": 11,
      "outputs": []
    },
    {
      "cell_type": "code",
      "metadata": {
        "id": "7tQSwBxYvBCZ"
      },
      "source": [
        "# csv 읽어오기, 경로설정\r\n",
        "df = pd.read_csv('/content/UrbanSound8K.csv')\r\n",
        "\r\n",
        "df.rename(columns={'class':'label'},inplace=True)\r\n",
        "classes=list(np.unique(df.label))\r\n",
        "\r\n",
        "for_nums = []\r\n",
        "path = '/content/drive/MyDrive/audio'  # 경로를 자신의 환경에 맞게 바꿔주세요.\r\n",
        "a = 0"
      ],
      "execution_count": 6,
      "outputs": []
    },
    {
      "cell_type": "code",
      "metadata": {
        "id": "w8zQavjq4Tgr",
        "colab": {
          "base_uri": "https://localhost:8080/"
        },
        "outputId": "140356f2-322a-4ef8-d37d-95e3b817ca84"
      },
      "source": [
        "# version4 - urban8K 데이터 전처리\r\n",
        "x_tr, x_t, y_tr, y_t = [],[],[],[]\r\n",
        "x, xt = [], []\r\n",
        "\r\n",
        "for i in tqdm(range(10)):\r\n",
        "  a = i\r\n",
        "  fold = df.iloc[a]['fold']\r\n",
        "  label_name = df.iloc[a]['label']\r\n",
        "  path_now = '/content/drive/MyDrive/audio'+'/fold'+str(fold)+'/'+df.iloc[a]['slice_file_name']  # 경로를 자신의 환경에 맞게 바꿔주세요.\r\n",
        "  mfcc_now = mfcc(path_now)\r\n",
        "  print(str(a)+' : '+path_now + ' fold'+str(fold)+' '+label_name)\r\n",
        "  \r\n",
        "  if fold != 10 :\r\n",
        "    x_tr.append(mfcc_now)\r\n",
        "    print('---------------------------')\r\n",
        "    print(len(x_tr[i]))  # 전처리된 list의 길이.\r\n",
        "    print(x_tr[i])       # 전처리된 list.\r\n",
        "    y_tr.append(classes.index(label_name))\r\n",
        "  else: \r\n",
        "    x_t.append(mfcc_now)\r\n",
        "    y_t.append(classes.index(label_name))"
      ],
      "execution_count": 14,
      "outputs": [
        {
          "output_type": "stream",
          "text": [
            " 10%|█         | 1/10 [00:00<00:08,  1.06it/s]"
          ],
          "name": "stderr"
        },
        {
          "output_type": "stream",
          "text": [
            "0 : /content/drive/MyDrive/audio/fold5/100032-3-0-0.wav fold5 dog_bark\n",
            "---------------------------\n",
            "40\n",
            "[-209.93579487   63.42262762 -123.69024252  -60.0192051   -14.45738451\n",
            "  -29.09064261   -4.25117803   12.41974909   12.73930311    9.05396662\n",
            "   -6.80807787   -2.13655875  -13.34995233    6.67802526   -3.1447943\n",
            "   -3.69539251  -15.76819459   -0.38718634   -3.25079328    6.49081244\n",
            "  -11.35261306   -7.68830237    5.41635442   -2.70299347   -6.27998139\n",
            "    0.45257506   -3.87933872    5.36968987   -6.66416289   -4.45491797\n",
            "    0.39725508    8.10058753   -1.07305265    2.7207087    -6.71397527\n",
            "   -1.87979063    2.01220858   -0.662542     -1.89823113    1.35495249]\n"
          ],
          "name": "stdout"
        },
        {
          "output_type": "stream",
          "text": [
            "\r 20%|██        | 2/10 [00:01<00:07,  1.10it/s]"
          ],
          "name": "stderr"
        },
        {
          "output_type": "stream",
          "text": [
            "1 : /content/drive/MyDrive/audio/fold5/100263-2-0-117.wav fold5 children_playing\n",
            "---------------------------\n",
            "40\n",
            "[-417.29110294  100.14850782  -43.86925184   51.95310994    9.04440675\n",
            "    8.78020594   10.37592157    2.73138798    6.17525893    5.06514314\n",
            "   -4.37066091   14.67556814   -3.52997652    8.04368789    4.82146799\n",
            "    2.61332701    1.05057824    7.75882477   -3.13875371    4.10315077\n",
            "   -0.56388695    6.83062388   -0.80798987    7.22863538   -0.79897929\n",
            "    0.75396174   -4.16833958    1.25981485   -6.39623348    1.32272064\n",
            "   -1.67411569    2.70545895   -1.92235785    1.1593204    -1.2141578\n",
            "    1.20422766   -2.9931971     1.98513575   -2.07825577    1.9851764 ]\n"
          ],
          "name": "stdout"
        },
        {
          "output_type": "stream",
          "text": [
            "\r 30%|███       | 3/10 [00:02<00:06,  1.08it/s]"
          ],
          "name": "stderr"
        },
        {
          "output_type": "stream",
          "text": [
            "2 : /content/drive/MyDrive/audio/fold5/100263-2-0-121.wav fold5 children_playing\n",
            "---------------------------\n",
            "40\n",
            "[-4.52774592e+02  1.13243013e+02 -3.85015535e+01  4.40628096e+01\n",
            "  7.76089666e+00  1.62462350e+01  1.60623870e+01  2.09013809e+00\n",
            "  6.01534162e+00  4.74748042e+00 -5.99433952e+00  9.11546263e+00\n",
            "  1.09726959e+00  7.40947892e+00  3.02211846e+00  3.62191135e+00\n",
            " -4.34192003e+00  1.53895810e+00 -8.13196103e-01  1.00770431e+01\n",
            "  1.81380826e+00  5.97481395e+00 -1.08112157e+00  2.33076941e+00\n",
            " -3.41884444e+00  2.55684274e+00 -2.74933339e+00  7.07196113e-01\n",
            " -3.35736617e+00  2.83357843e+00 -3.88386075e-01  2.52250890e-01\n",
            " -5.70559022e+00 -3.71318086e-01 -3.30757008e+00  1.83181589e-01\n",
            " -3.39441962e+00  4.14249946e+00 -3.79127174e-01  1.09250376e+00]\n"
          ],
          "name": "stdout"
        },
        {
          "output_type": "stream",
          "text": [
            "\r 40%|████      | 4/10 [00:03<00:05,  1.13it/s]"
          ],
          "name": "stderr"
        },
        {
          "output_type": "stream",
          "text": [
            "3 : /content/drive/MyDrive/audio/fold5/100263-2-0-126.wav fold5 children_playing\n",
            "---------------------------\n",
            "40\n",
            "[-4.06865407e+02  9.20699280e+01 -2.59745718e+01  4.37142741e+01\n",
            "  1.06445246e+01  5.92006284e+00  1.14800752e+01 -7.13136922e-01\n",
            "  5.77380545e+00  2.34985287e+00 -5.47815304e+00  1.50744188e+01\n",
            " -4.08416018e-01  7.85039156e+00 -3.15021719e-01  3.48714268e-01\n",
            "  2.57737779e+00  4.98554407e+00  1.52753878e+00  4.13598873e+00\n",
            " -4.62577932e+00  4.97428904e+00 -5.26055787e+00  3.25873386e+00\n",
            " -2.75651495e+00  7.38109152e-01 -4.18538715e+00  7.60434425e-01\n",
            " -4.84967019e+00 -7.81723533e-01 -5.51633488e+00  1.76670222e+00\n",
            "  1.91498099e-01  1.85379619e+00 -3.26735875e+00  2.16454009e+00\n",
            " -2.54456227e+00 -8.29466060e-02 -3.36940304e+00  1.35613434e-01]\n"
          ],
          "name": "stdout"
        },
        {
          "output_type": "stream",
          "text": [
            "\r 50%|█████     | 5/10 [00:04<00:04,  1.15it/s]"
          ],
          "name": "stderr"
        },
        {
          "output_type": "stream",
          "text": [
            "4 : /content/drive/MyDrive/audio/fold5/100263-2-0-137.wav fold5 children_playing\n",
            "---------------------------\n",
            "40\n",
            "[-4.40051493e+02  1.04752799e+02 -4.36016779e+01  5.16230788e+01\n",
            "  1.13236348e+01  1.68094356e+01  1.08511156e+01  2.38532670e+00\n",
            "  1.04001820e+01  3.41903736e+00 -8.12732505e+00  1.12584308e+01\n",
            "  1.30038812e+00  5.52885643e+00  5.76648298e+00  6.15290120e+00\n",
            " -2.96959099e+00  2.74153323e+00 -5.35414118e+00  9.99842220e+00\n",
            "  1.45363243e+00  4.88290901e+00 -1.08638726e+00  3.87975594e+00\n",
            " -3.04228457e+00  2.29435249e+00 -2.13186030e+00  5.17562492e+00\n",
            " -1.54201979e+00  6.01823115e-01 -3.44221214e+00 -3.63628476e-01\n",
            " -1.42480190e+00  2.96140061e+00 -3.34791974e+00  1.41070317e+00\n",
            " -2.16286306e+00  3.60624896e+00 -4.32204473e-01  1.64715110e+00]\n"
          ],
          "name": "stdout"
        },
        {
          "output_type": "stream",
          "text": [
            "\r 60%|██████    | 6/10 [00:05<00:03,  1.20it/s]"
          ],
          "name": "stderr"
        },
        {
          "output_type": "stream",
          "text": [
            "5 : /content/drive/MyDrive/audio/fold5/100263-2-0-143.wav fold5 children_playing\n",
            "---------------------------\n",
            "40\n",
            "[-4.41531806e+02  1.09718708e+02 -2.66898712e+01  4.83977208e+01\n",
            "  9.72019186e+00  1.83843606e+01  1.24164542e+01  5.37812682e+00\n",
            "  4.70197984e+00  4.55968029e+00 -2.88981962e+00  9.29789147e+00\n",
            "  2.33726682e+00  7.14830175e+00  2.35050207e+00  1.32724511e+00\n",
            " -3.85131203e+00  3.81151012e+00 -2.64783769e+00  7.17972410e+00\n",
            " -2.77527879e-01  4.15896881e+00 -2.79302763e+00  3.46475545e+00\n",
            " -2.76304975e+00  1.94254360e+00 -4.13234856e+00  2.01919645e+00\n",
            "  1.98593136e-01  3.43519101e+00 -2.27927924e+00  1.04972375e+00\n",
            " -3.79423792e+00  2.50093267e+00 -2.49005603e+00  5.89432348e-01\n",
            " -2.89006618e+00  2.07051497e+00 -2.03466201e+00  3.49171102e-01]\n"
          ],
          "name": "stdout"
        },
        {
          "output_type": "stream",
          "text": [
            "\r 70%|███████   | 7/10 [00:05<00:02,  1.24it/s]"
          ],
          "name": "stderr"
        },
        {
          "output_type": "stream",
          "text": [
            "6 : /content/drive/MyDrive/audio/fold5/100263-2-0-161.wav fold5 children_playing\n",
            "---------------------------\n",
            "40\n",
            "[-4.69740181e+02  1.10137542e+02 -1.93276089e+01  4.69091575e+01\n",
            "  1.09404326e+01  1.81520140e+01  9.16960783e+00  3.91796212e+00\n",
            "  6.06749997e+00  3.80432530e+00 -1.77495061e+00  1.28167172e+01\n",
            "  1.98708782e+00  7.07155071e+00  6.84970464e-01  1.96337686e+00\n",
            " -3.27272075e+00  2.51401777e+00 -3.34408017e+00  4.91532834e+00\n",
            " -2.04895569e+00  7.47839230e+00 -5.90330927e-01  5.32268914e+00\n",
            " -1.06042528e+00  9.42951499e-01 -2.41770117e+00  1.72303319e+00\n",
            " -1.72553851e+00  3.25700361e+00 -1.08579286e+00  7.85574460e-01\n",
            " -4.15745174e+00  1.48109453e+00 -2.50935315e+00  3.01711869e+00\n",
            " -2.19221326e+00  2.53783666e+00 -1.76231614e-01  1.18169445e+00]\n"
          ],
          "name": "stdout"
        },
        {
          "output_type": "stream",
          "text": [
            "\r 80%|████████  | 8/10 [00:06<00:01,  1.24it/s]"
          ],
          "name": "stderr"
        },
        {
          "output_type": "stream",
          "text": [
            "7 : /content/drive/MyDrive/audio/fold5/100263-2-0-3.wav fold5 children_playing\n",
            "---------------------------\n",
            "40\n",
            "[-4.57554645e+02  1.07447551e+02 -2.00310651e+01  4.08115502e+01\n",
            "  3.91386575e+00  2.29272573e+01  1.51526193e+01  8.50083501e+00\n",
            "  5.60075352e+00  6.57633513e+00 -2.89469178e+00  1.00850361e+01\n",
            "  7.31834196e-01  3.80646878e+00  1.44381808e+00  1.33317326e+00\n",
            " -7.12724379e-01  6.95571506e+00 -7.26870957e-01  4.53915375e+00\n",
            " -1.63217225e+00  3.57265367e+00 -1.85890791e+00  4.03586374e+00\n",
            " -4.17055439e+00  8.01586242e-01 -3.21017827e+00 -2.47542177e-01\n",
            " -2.39334192e+00  2.14404147e+00 -6.29621871e-01  9.91637584e-01\n",
            " -2.90800607e+00  3.21704387e+00 -3.64454105e+00  8.14450676e-01\n",
            " -2.19099544e+00 -8.12068690e-02 -4.12332214e+00  2.57176450e+00]\n"
          ],
          "name": "stdout"
        },
        {
          "output_type": "stream",
          "text": [
            "\r 90%|█████████ | 9/10 [00:07<00:00,  1.17it/s]"
          ],
          "name": "stderr"
        },
        {
          "output_type": "stream",
          "text": [
            "8 : /content/drive/MyDrive/audio/fold5/100263-2-0-36.wav fold5 children_playing\n",
            "---------------------------\n",
            "40\n",
            "[-4.66591311e+02  1.18987923e+02 -3.07155156e+01  5.13060847e+01\n",
            "  4.39498207e+00  2.23829967e+01  1.28650577e+01  8.00212277e+00\n",
            "  7.45460902e+00  3.84689032e+00 -3.02372864e+00  1.37575048e+01\n",
            " -1.29876375e-01  8.81949543e+00  1.07389157e+00  2.82526937e+00\n",
            " -2.23166284e+00  4.05393237e+00 -3.97705986e+00  3.83645669e+00\n",
            " -8.92393952e-01  4.67080350e+00  2.45283710e-01  4.44679642e+00\n",
            " -1.28048735e+00 -9.81458446e-01 -2.18376330e+00  6.75677289e-02\n",
            " -1.72919420e+00  1.29453027e+00 -4.81198605e-01  2.80003108e+00\n",
            " -1.51640605e+00  2.17009251e+00 -2.14968316e+00  4.67492408e-01\n",
            " -3.83251119e+00  1.49996657e+00 -1.97156771e+00 -9.72801681e-01]\n"
          ],
          "name": "stdout"
        },
        {
          "output_type": "stream",
          "text": [
            "100%|██████████| 10/10 [00:12<00:00,  1.20s/it]"
          ],
          "name": "stderr"
        },
        {
          "output_type": "stream",
          "text": [
            "9 : /content/drive/MyDrive/audio/fold10/100648-1-0-0.wav fold10 car_horn\n"
          ],
          "name": "stdout"
        },
        {
          "output_type": "stream",
          "text": [
            "\n"
          ],
          "name": "stderr"
        }
      ]
    },
    {
      "cell_type": "code",
      "metadata": {
        "id": "ASXulfjy7bJk"
      },
      "source": [
        "# version4 - 학습 데이터 만들기\r\n",
        "x.append(x_tr)  \r\n",
        "\r\n",
        "xt.append(x_t)\r\n",
        "\r\n",
        "# numpy array로 만들기\r\n",
        "# train용 \r\n",
        "x = np.array(x)\r\n",
        "y = np.array(y_tr)\r\n",
        "\r\n",
        "# test용\r\n",
        "xt = np.array(xt)\r\n",
        "y_t = np.array(y_t)\r\n",
        "\r\n",
        "# z-score normalization\r\n",
        "x_train = (x-np.mean(x)/np.std(x))\r\n",
        "x_test = (xt-np.mean(xt)/np.std(xt))\r\n",
        "\r\n",
        "y_train = to_categorical(y, num_classes = 10)\r\n",
        "y_test = to_categorical(y_t, num_classes = 10)"
      ],
      "execution_count": 15,
      "outputs": []
    },
    {
      "cell_type": "code",
      "metadata": {
        "id": "xRUcF87FakWW"
      },
      "source": [
        "# version3~4 - numpy 배열을 .npy 파일로 저장\r\n",
        "np.save('/content/drive/MyDrive/GSM_Festival_2020_datas/x_train', x_train)\r\n",
        "np.save('/content/drive/MyDrive/GSM_Festival_2020_datas/x_test', x_test)\r\n",
        "np.save('/content/drive/MyDrive/GSM_Festival_2020_datas/y_train', y_train)\r\n",
        "np.save('/content/drive/MyDrive/GSM_Festival_2020_datas/y_test', y_test)"
      ],
      "execution_count": 16,
      "outputs": []
    }
  ]
}